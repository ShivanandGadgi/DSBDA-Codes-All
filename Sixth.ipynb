{
 "cells": [
  {
   "cell_type": "code",
   "execution_count": null,
   "metadata": {},
   "outputs": [],
   "source": [
    "import numpy as np\n",
    "import pandas as pd\n",
    "import seaborn as sns\n",
    "import matplotlib.pyplot as plt\n",
    "%matplotlib inline\n",
    "import seaborn as sns"
   ]
  },
  {
   "cell_type": "code",
   "execution_count": null,
   "metadata": {},
   "outputs": [],
   "source": [
    "df=pd.read_csv('heart.csv')\n",
    "df"
   ]
  },
  {
   "cell_type": "code",
   "execution_count": null,
   "metadata": {},
   "outputs": [],
   "source": [
    "df.columns\n",
    "df=df.drop('Unnamed: 0',axis=1)\n",
    "df['AHD']=df['AHD'].replace({\"Yes\":1,\"No\":0})"
   ]
  },
  {
   "cell_type": "code",
   "execution_count": null,
   "metadata": {},
   "outputs": [],
   "source": [
    "print(df['Ca'])\n",
    "num=df['Ca']\n",
    "df = pd.DataFrame(num)\n",
    "df = df.dropna()\n",
    "df"
   ]
  },
  {
   "cell_type": "code",
   "execution_count": null,
   "metadata": {},
   "outputs": [],
   "source": [
    "import sqlite3\n",
    "db=sqlite3.connect(\"company_database1.db\")\n",
    "c=db.cursor()\n",
    "c.execute('create table company1(id int,name text, age int,addr text,salary real)')\n",
    "\n",
    "c.execute(\"insert into company1 values(21,'sdd',42,'gv7',80000)\")\n",
    "c.execute(\"insert into company1 values(1,'sgd',41,'pune',85000)\")\n",
    "c.execute(\"insert into company1 values(2,'htfd',23,'sangli',83000)\")\n",
    "c.execute(\"insert into company1 values(3,'hhd',27,'mumbai',100000)\")\n",
    "c.execute(\"insert into company1 values(4,'dfgf',28,'ashta',18000)\")\n",
    "c.execute(\"insert into company1 values(5,'bb',32,'blore',90000)\")\n",
    "c.execute(\"insert into company1 values(6,'nnsdd',40,'usa',89000)\")\n",
    "c.execute(\"insert into company1 values(8,'mmsdd',30,'vg7',88000)\")\n",
    "c.execute(\"insert into company1 values(9,'vvsdd',40,'dfdgv7',150000)\")"
   ]
  },
  {
   "cell_type": "code",
   "execution_count": null,
   "metadata": {},
   "outputs": [],
   "source": [
    "data=c.execute('select * from company1')\n",
    "for i in data:\n",
    "    print(i)"
   ]
  },
  {
   "cell_type": "code",
   "execution_count": null,
   "metadata": {},
   "outputs": [],
   "source": [
    "db.commit()"
   ]
  }
 ],
 "metadata": {
  "kernelspec": {
   "display_name": "Python 3",
   "language": "python",
   "name": "python3"
  },
  "language_info": {
   "codemirror_mode": {
    "name": "ipython",
    "version": 3
   },
   "file_extension": ".py",
   "mimetype": "text/x-python",
   "name": "python",
   "nbconvert_exporter": "python",
   "pygments_lexer": "ipython3",
   "version": "3.7.2"
  }
 },
 "nbformat": 4,
 "nbformat_minor": 2
}
